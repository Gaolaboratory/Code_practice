{
 "cells": [
  {
   "cell_type": "markdown",
   "metadata": {},
   "source": [
    "# Practice 1 - calculate peptide mass from sequence.\n",
    "\n",
    "When you have a protein sequence, such as “PEPTIDE” or “EDITPEP”, you can calculate the mass of the whole peptide by adding all the mass of individual amino acids together minus the water loss. In this case, it will be 799.83 for average mass, 799.36 for monoisotopic mass. Most of the time, you need to calculate the monoisotopic mass.\n",
    "\n",
    "Here are some simple code adopted from stackoverflow (with minor mod) to calculate peptide mass from sequence:"
   ]
  },
  {
   "cell_type": "code",
   "execution_count": 1,
   "metadata": {},
   "outputs": [],
   "source": [
    "from re import findall as refindall\n",
    "\n",
    "aminoacid = {\n",
    "    'I': 'C6H13NO2',\n",
    "    'L': 'C6H13NO2',\n",
    "    'K': 'C6H14N2O2',\n",
    "    'M': 'C5H11NO2S',\n",
    "    'F': 'C9H11NO2',\n",
    "    'T': 'C4H9NO3',\n",
    "    'W': 'C11H12N2O2',\n",
    "    'V': 'C5H11NO2',\n",
    "    'R': 'C6H14N4O2',\n",
    "    'H': 'C6H9N3O2',\n",
    "    'A': 'C3H7NO2',\n",
    "    'N': 'C4H8N2O3',\n",
    "    'D': 'C4H7NO4',\n",
    "    'C': 'C3H7NO2S',\n",
    "    'E': 'C5H9NO4',\n",
    "    'Q': 'C5H10N2O3',\n",
    "    'G': 'C2H5NO2',\n",
    "    'P': 'C5H9NO2',\n",
    "    'S': 'C3H7NO3',\n",
    "    'Y': 'C9H11NO3'\n",
    "}\n",
    "\n",
    "monoisotopic = {\n",
    "    'S': 31.972072,\n",
    "    'C': 12.0000,\n",
    "    'H': 1.007825,\n",
    "    'O': 15.994915,\n",
    "    'N': 14.003074\n",
    "}\n",
    "\n",
    "\n",
    "def molecular_weight(molecule):\n",
    "    return sum(\n",
    "        monoisotopic[atom] * int(num or '1')\n",
    "        for atom, num in refindall(r'([A-Z][a-z]*)(\\d*)', molecule)\n",
    "    )\n",
    "\n",
    "\n",
    "def protein_mass(protein):\n",
    "    return sum(molecular_weight(aminoacid[char]) for char in protein)  - (len(protein)-1)* 18.0105"
   ]
  },
  {
   "cell_type": "code",
   "execution_count": 8,
   "metadata": {},
   "outputs": [
    {
     "name": "stdout",
     "output_type": "stream",
     "text": [
      "'I':131.094629\n",
      "'L':131.094629\n",
      "'K':146.105528\n",
      "'M':149.051051\n",
      "'F':165.078979\n",
      "'T':119.058244\n",
      "'W':204.089878\n",
      "'V':117.07897899999999\n",
      "'R':174.11167600000002\n",
      "'H':155.069477\n",
      "'A':89.047679\n",
      "'N':132.053493\n",
      "'D':133.037509\n",
      "'C':121.019751\n",
      "'E':147.053159\n",
      "'Q':146.069143\n",
      "'G':75.032029\n",
      "'P':115.063329\n",
      "'S':105.04259400000001\n",
      "'Y':181.073894\n"
     ]
    }
   ],
   "source": [
    "for each in aminoacid:\n",
    "    print(\"'%s':%s\"%(each,molecular_weight(aminoacid[each])))\n",
    "\n",
    "    \n",
    "aa_mol = {'I':131.094629,\n",
    "'L':131.094629,\n",
    "'K':146.105528,\n",
    "'M':149.051051,\n",
    "'F':165.078979,\n",
    "'T':119.058244,\n",
    "'W':204.089878,\n",
    "'V':117.078979,\n",
    "'R':174.111676,\n",
    "'H':155.069477,\n",
    "'A':89.047679,\n",
    "'N':132.053493,\n",
    "'D':133.037509,\n",
    "'C':121.019751,\n",
    "'E':147.053159,\n",
    "'Q':146.069143,\n",
    "'G':75.032029,\n",
    "'P':115.063329,\n",
    "'S':105.042594,\n",
    "'Y':181.073894}"
   ]
  },
  {
   "cell_type": "code",
   "execution_count": 18,
   "metadata": {},
   "outputs": [],
   "source": [
    "def protein_mass(protein):\n",
    "    print(protein)\n",
    "    return sum(aa_mol[char] for char in protein)  - (len(protein)-1)* 18.0105"
   ]
  },
  {
   "cell_type": "code",
   "execution_count": 19,
   "metadata": {},
   "outputs": [
    {
     "name": "stdout",
     "output_type": "stream",
     "text": [
      "PEPTIDE\n"
     ]
    },
    {
     "data": {
      "text/plain": [
       "799.360358"
      ]
     },
     "execution_count": 19,
     "metadata": {},
     "output_type": "execute_result"
    }
   ],
   "source": [
    "protein_mass('PEPTIDE')"
   ]
  },
  {
   "cell_type": "code",
   "execution_count": 37,
   "metadata": {},
   "outputs": [
    {
     "name": "stdout",
     "output_type": "stream",
     "text": [
      "1765.8363040000002\n",
      "1765.8363040000002\n",
      "862.4262160000001\n",
      "1255.6792059999998\n",
      "1255.6792059999998\n",
      "1765.8363040000002\n",
      "1201.5087569999998\n",
      "1384.6591219999996\n",
      "2370.1738039999996\n",
      "1422.674837\n",
      "2370.1738039999996\n",
      "1384.6591219999996\n",
      "1815.925206\n",
      "2412.241109\n",
      "1384.6591219999996\n",
      "2370.1738039999996\n",
      "1384.6591219999996\n",
      "1765.8363040000002\n",
      "1384.6591219999996\n",
      "2412.241109\n",
      "1384.6591219999996\n",
      "1815.925206\n",
      "2412.241109\n",
      "822.49673\n",
      "919.400127\n",
      "1384.6591219999996\n",
      "2370.1738039999996\n",
      "822.49673\n",
      "919.400127\n",
      "1384.6591219999996\n",
      "1818.9499830000002\n",
      "1201.5087569999998\n",
      "822.49673\n",
      "887.4941699999999\n",
      "1384.6591219999996\n",
      "1815.925206\n",
      "1795.9123549999997\n",
      "822.49673\n"
     ]
    }
   ],
   "source": [
    "import re\n",
    "aa_mol = {'I':131.094629,\n",
    "'L':131.094629,\n",
    "'K':146.105528,\n",
    "'M':149.051051,\n",
    "'F':165.078979,\n",
    "'T':119.058244,\n",
    "'W':204.089878,\n",
    "'V':117.078979,\n",
    "'R':174.111676,\n",
    "'H':155.069477,\n",
    "'A':89.047679,\n",
    "'N':132.053493,\n",
    "'D':133.037509,\n",
    "'C':121.019751,\n",
    "'E':147.053159,\n",
    "'Q':146.069143,\n",
    "'G':75.032029,\n",
    "'P':115.063329,\n",
    "'S':105.042594,\n",
    "'Y':181.073894}\n",
    "def protein_mass(protein):\n",
    "    peptide_seq = protein[2:-2]\n",
    "    #print(peptide_seq)\n",
    "    res = re.findall(r'\\[.*?\\]', peptide_seq)\n",
    "    seq = [i for i in re.sub(\"[\\(\\[].*?[\\)\\]]\", \"\", peptide_seq) if i in 'ILKMFTWVRHANDCEQGPSY']\n",
    "    add_mass = sum([float(i[1:-1]) for i in res])\n",
    "    #print(res, seq)\n",
    "    return sum(aa_mol[char] for char in seq)  - (len(seq)-1)* 18.0105 + add_mass\n",
    "\n",
    "peptide_list=[\"R.RGGM[15.9949]QEMLPGPPGGPGGR.R\",\"R.RGGM[15.9949]QEMLPGPPGGPGGR.R\",\"K.KGRGSGTSN.K\",\"R.RNVGSPVFPRQ.R\",\"R.RNVGSPVFPRQ.R\",\"R.RGGM[15.9949]QEMLPGPPGGPGGR.R\",\"-.n[42.0106]SRC[57.0215]C[57.0215]PGGPNR.R\",\"P.RASAGGPELDLQGD.R\",\"L.RTQGHNPKC[57.0215]SIMLGDFLFIH.R\",\"P.RGATGGPGDEPLEPA.R\",\"L.RTQGHNPKC[57.0215]SIMLGDFLFIH.R\",\"P.RASAGGPELDLQGD.R\",\"P.RSAAGAHLHVPHAEGGLH.R\",\"V.RSQQPPPISWSVSLSTTSRGEL.R\",\"P.RASAGGPELDLQGD.R\",\"L.RTQGHNPKC[57.0215]SIMLGDFLFIH.R\",\"P.RASAGGPELDLQGD.R\",\"R.RGGM[15.9949]QEMLPGPPGGPGGR.R\",\"P.RASAGGPELDLQGD.R\",\"V.RSQQPPPISWSVSLSTTSRGEL.R\",\"P.RASAGGPELDLQGD.R\",\"P.RSAAGAHLHVPHAEGGLH.R\",\"V.RSQQPPPISWSVSLSTTSRGEL.R\",\"A.KEPPPKK.-\",\"A.RTAGAGSGDE.K\",\"P.RASAGGPELDLQGD.R\",\"L.RTQGHNPKC[57.0215]SIMLGDFLFIH.R\",\"A.KEPPPKK.-\",\"A.RTAGAGSGDE.K\",\"P.RASAGGPELDLQGD.R\",\"S.RFYYLTKGILTC[57.0215]WV.R\",\"-.n[42.0106]SRC[57.0215]C[57.0215]PGGPNR.R\",\"A.KEPPPKK.-\",\"G.RTAANSLR.R\",\"P.RASAGGPELDLQGD.R\",\"P.RSAAGAHLHVPHAEGGLH.R\",\"-.n[42.0106]C[57.0215]LPALPPVSWSRC[57.0215]LV.R\",\"A.KEPPPKK.-\"]\n",
    "for each in peptide_list:\n",
    "    print(protein_mass(each))\n"
   ]
  },
  {
   "cell_type": "markdown",
   "metadata": {},
   "source": [
    "## Task 1: Can you write a different code/function to perform the exact same job, but faster?\n",
    "Below is some code that can help you to measure how fast your function runs. In the following code, protein_mass() has been executed 10000 times in 5 seconds."
   ]
  },
  {
   "cell_type": "code",
   "execution_count": 29,
   "metadata": {},
   "outputs": [
    {
     "name": "stdout",
     "output_type": "stream",
     "text": [
      "4.93839897098951\n",
      "11628.332233999992 HSDFDDTYWKNMEIIQWDISAGARRNVMEPWNCKQCSNGVAMKGEQQVNHPKWGEEATNPEEILIDPTLWYVACQKFDNFLPFLDCSEMVMCLSTVVQTM\n"
     ]
    }
   ],
   "source": [
    "\n",
    "import timeit, random\n",
    "\n",
    "random_peptide_sequence_list = [''.join(random.choice('ACDEFGHIKLMNPQRSTVWY') for i in range(100)) for i in range(1000)]\n",
    "\n",
    "def test_speed():\n",
    "    for each_peptide in random_peptide_sequence_list: \n",
    "        protein_mass(each_peptide)\n",
    "    \n",
    "print(timeit.timeit(test_speed, number=10))\n",
    "print(protein_mass(random_peptide_sequence_list[0]), random_peptide_sequence_list[0])"
   ]
  },
  {
   "cell_type": "markdown",
   "metadata": {},
   "source": [
    "## Task 2: Can you sort the peptide list by the mass of each peptides?\n",
    "\n",
    "Use the above random_peptide_sequence_list as your input, output an sorted peptide list, sorted by the mass"
   ]
  },
  {
   "cell_type": "code",
   "execution_count": null,
   "metadata": {},
   "outputs": [],
   "source": []
  },
  {
   "cell_type": "markdown",
   "metadata": {},
   "source": [
    "## Task 3 (optional): Can you plot the mass distribution of the peptide list?\n",
    "Use the above random_peptide_sequence_list as your input, plot a figure with x being mass range of the peptides, binned every 50 Da, and y being the frequency of how many peptides in the list fall into that range?"
   ]
  },
  {
   "cell_type": "code",
   "execution_count": null,
   "metadata": {},
   "outputs": [],
   "source": []
  }
 ],
 "metadata": {
  "kernelspec": {
   "display_name": "Python 3",
   "language": "python",
   "name": "python3"
  },
  "language_info": {
   "codemirror_mode": {
    "name": "ipython",
    "version": 3
   },
   "file_extension": ".py",
   "mimetype": "text/x-python",
   "name": "python",
   "nbconvert_exporter": "python",
   "pygments_lexer": "ipython3",
   "version": "3.8.10"
  }
 },
 "nbformat": 4,
 "nbformat_minor": 4
}
