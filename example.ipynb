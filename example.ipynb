{
 "cells": [
  {
   "cell_type": "code",
   "execution_count": 2,
   "id": "initial_id",
   "metadata": {
    "collapsed": true,
    "ExecuteTime": {
     "end_time": "2023-10-26T00:44:23.709941100Z",
     "start_time": "2023-10-26T00:44:23.531268600Z"
    }
   },
   "outputs": [],
   "source": [
    "import gzip\n",
    "\n",
    "with gzip.open(r\"UniProt_Human.fasta.gz\", \"rt\") as fin:\n",
    "    split_list = [protein for protein in fin.read()[1:].split('\\n>')]\n",
    "\n",
    "split_line = split_list[0].split('\\n')\n",
    "uniprot_id = split_line[0].split('|')[1]\n",
    "seq = \"\".join(split_line[1:])\n",
    "seq_rev = seq[::-1]"
   ]
  },
  {
   "cell_type": "code",
   "execution_count": 3,
   "outputs": [
    {
     "data": {
      "text/plain": "'MSKPHSEAGTAFIQTQQLHAAMADTFLEHMCRLDIDSPPITARNTGIICTIGPASRSVELKKGATLKITLDNAYMEKCDENILWLDYKNICKVVEVGSKIYVDDGLISLQVKQKGADFLVTEVENGGSLGSKKGVNLPGAAVDLPAVSEKDIQDLKFGVEQDVDMVFASFIRKASDVHEVRKVLGEKGKNIKIISKIENHEGVRRFDEILEASDGIMVARGDLGIEIPAEKVFLAQKMMIGRCNRAGKPVICATQMLESMIKKPRPTRAEGSDVANAVLDGADCIMLSGETAKGDYPLEAVRMQHLIAREAEAAIYHLQLFEELRRLAPITSDPTEATAVGAVEASFKCCSGAIIVLTKSGRSAHQVARYRPRAPIIAVTRNPQTARQAHLYRGIFPVLCKDPVQEAWAEDVDLRVNFAMNVGKARGFFKKGDVVIVLTGWRPGSGFTNTMRVVPVP'"
     },
     "execution_count": 3,
     "metadata": {},
     "output_type": "execute_result"
    }
   ],
   "source": [
    "seq"
   ],
   "metadata": {
    "collapsed": false,
    "ExecuteTime": {
     "end_time": "2023-10-26T00:44:46.076918900Z",
     "start_time": "2023-10-26T00:44:46.074408400Z"
    }
   },
   "id": "1dc61987cf6e6178"
  },
  {
   "cell_type": "code",
   "execution_count": 4,
   "outputs": [
    {
     "data": {
      "text/plain": "'PVPVVRMTNTFGSGPRWGTLVIVVDGKKFFGRAKGVNMAFNVRLDVDEAWAEQVPDKCLVPFIGRYLHAQRATQPNRTVAIIPARPRYRAVQHASRGSKTLVIIAGSCCKFSAEVAGVATAETPDSTIPALRRLEEFLQLHYIAAEAERAILHQMRVAELPYDGKATEGSLMICDAGDLVANAVDSGEARTPRPKKIMSELMQTACIVPKGARNCRGIMMKQALFVKEAPIEIGLDGRAVMIGDSAELIEDFRRVGEHNEIKSIIKINKGKEGLVKRVEHVDSAKRIFSAFVMDVDQEVGFKLDQIDKESVAPLDVAAGPLNVGKKSGLSGGNEVETVLFDAGKQKVQLSILGDDVYIKSGVEVVKCINKYDLWLINEDCKEMYANDLTIKLTAGKKLEVSRSAPGITCIIGTNRATIPPSDIDLRCMHELFTDAMAAHLQQTQIFATGAESHPKSM'"
     },
     "execution_count": 4,
     "metadata": {},
     "output_type": "execute_result"
    }
   ],
   "source": [
    "seq_rev"
   ],
   "metadata": {
    "collapsed": false,
    "ExecuteTime": {
     "end_time": "2023-10-26T00:44:55.373099800Z",
     "start_time": "2023-10-26T00:44:55.368591900Z"
    }
   },
   "id": "3ab20af39441dd72"
  }
 ],
 "metadata": {
  "kernelspec": {
   "display_name": "Python 3",
   "language": "python",
   "name": "python3"
  },
  "language_info": {
   "codemirror_mode": {
    "name": "ipython",
    "version": 2
   },
   "file_extension": ".py",
   "mimetype": "text/x-python",
   "name": "python",
   "nbconvert_exporter": "python",
   "pygments_lexer": "ipython2",
   "version": "2.7.6"
  }
 },
 "nbformat": 4,
 "nbformat_minor": 5
}
